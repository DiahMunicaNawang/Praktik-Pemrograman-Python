{
 "cells": [
  {
   "cell_type": "code",
   "execution_count": 1,
   "id": "0fa04c3e",
   "metadata": {},
   "outputs": [
    {
     "name": "stdout",
     "output_type": "stream",
     "text": [
      "<mysql.connector.connection.MySQLConnection object at 0x00000230B70EBAF0>\n"
     ]
    }
   ],
   "source": [
    "#koneksi\n",
    "import mysql.connector\n",
    "\n",
    "#conec dari server\n",
    "conn = mysql.connector.connect(host = \"localhost\", user = \"root\", password = \"\")\n",
    "\n",
    "print(conn)\n",
    "\n",
    "#disconec dr server\n",
    "conn.close()"
   ]
  },
  {
   "cell_type": "code",
   "execution_count": 8,
   "id": "886d5ce7",
   "metadata": {},
   "outputs": [
    {
     "name": "stdout",
     "output_type": "stream",
     "text": [
      "Openned database successfully\n"
     ]
    }
   ],
   "source": [
    "#create database\n",
    "import mysql.connector\n",
    "\n",
    "dataBase=mysql.connector.connect(host = \"localhost\", user = \"root\", password = \"\")\n",
    "\n",
    "#prepar obj\n",
    "cursorObj=dataBase.cursor()\n",
    "\n",
    "#create db\n",
    "cursorObj.execute(\"CREATE DATABASE D3_TI_2023\")\n",
    "print('Openned database successfully')"
   ]
  },
  {
   "cell_type": "code",
   "execution_count": 9,
   "id": "fa19b280",
   "metadata": {},
   "outputs": [
    {
     "name": "stdout",
     "output_type": "stream",
     "text": [
      "Table berhasil dibuat\n"
     ]
    }
   ],
   "source": [
    "#Tabel mahasiswa\n",
    "import mysql.connector\n",
    "\n",
    "dataBase = mysql.connector.connect(host = \"localhost\", user = \"root\", password = \"\", database=\"D3_TI_2023\")\n",
    "\n",
    "#preparing a cursor object\n",
    "cursorObj = dataBase.cursor()\n",
    "\n",
    "#create table\n",
    "mhsRecord = \"\"\"CREATE TABLE tabel_mahasiswa(NIM VARCHAR(10)NOT NULL PRIMARY KEY, NAMA VARCHAR(30) NOT NULL, \n",
    "                ALAMAT VARCHAR(255), MATKUL_YANG_DIIKUTI VARCHAR(10) NOT NULL)\"\"\"\n",
    "\n",
    "#table create\n",
    "cursorObj.execute(mhsRecord)\n",
    "\n",
    "#disconec\n",
    "dataBase.close()\n",
    "print('Table berhasil dibuat')"
   ]
  },
  {
   "cell_type": "code",
   "execution_count": 10,
   "id": "1aa83bd3",
   "metadata": {},
   "outputs": [
    {
     "name": "stdout",
     "output_type": "stream",
     "text": [
      "Table berhasil dibuat\n"
     ]
    }
   ],
   "source": [
    "#Tabel dosen\n",
    "import mysql.connector\n",
    "\n",
    "dataBase = mysql.connector.connect(host = \"localhost\", user = \"root\", password = \"\", database=\"D3_TI_2023\")\n",
    "\n",
    "#preparing a cursor object\n",
    "cursorObj = dataBase.cursor()\n",
    "\n",
    "#create table\n",
    "dosenRecord = \"\"\"CREATE TABLE tabel_dosen(NIP VARCHAR(20)NOT NULL PRIMARY KEY, NAMA VARCHAR(50) NOT NULL, \n",
    "                MATKUL_YG_DIAJAR VARCHAR(50) NOT NULL)\"\"\"\n",
    "\n",
    "#table create\n",
    "cursorObj.execute(dosenRecord)\n",
    "\n",
    "#disconec\n",
    "dataBase.close()\n",
    "print('Table berhasil dibuat')"
   ]
  },
  {
   "cell_type": "code",
   "execution_count": 11,
   "id": "8ca14ac4",
   "metadata": {},
   "outputs": [
    {
     "name": "stdout",
     "output_type": "stream",
     "text": [
      "Table berhasil dibuat\n"
     ]
    }
   ],
   "source": [
    "#Tabel mata kuliah\n",
    "import mysql.connector\n",
    "\n",
    "dataBase = mysql.connector.connect(host = \"localhost\", user = \"root\", password = \"\", database=\"D3_TI_2023\")\n",
    "\n",
    "#preparing a cursor object\n",
    "cursorObj = dataBase.cursor()\n",
    "\n",
    "#create table\n",
    "mkRecord = \"\"\"CREATE TABLE tabel_matkul(kode_MK VARCHAR(10)NOT NULL PRIMARY KEY, nama_MK VARCHAR(50) NOT NULL, \n",
    "                WAKTU DATE, RUANG VARCHAR(10))\"\"\"\n",
    "\n",
    "#table create\n",
    "cursorObj.execute(mkRecord)\n",
    "\n",
    "#disconec\n",
    "dataBase.close()\n",
    "print('Table berhasil dibuat')"
   ]
  },
  {
   "cell_type": "code",
   "execution_count": 12,
   "id": "718b602e",
   "metadata": {},
   "outputs": [
    {
     "name": "stdout",
     "output_type": "stream",
     "text": [
      "Data berhasil dimasukkan\n"
     ]
    }
   ],
   "source": [
    "#insert data mahasiswa\n",
    "import mysql.connector\n",
    "\n",
    "dataBase = mysql.connector.connect(host = 'localhost', user = \"root\", password = \"\", database=\"D3_TI_2023\")\n",
    "\n",
    "cursorObj=dataBase.cursor()\n",
    "\n",
    "sql=\"INSERT INTO tabel_mahasiswa(NIM, NAMA, ALAMAT, MATKUL_YANG_DIIKUTI) VALUES(%s,%s,%s,%s)\"\n",
    "val = [ ('111111', 'Diah', 'Jl. Kenangan No.1', 'IF101'),\n",
    "('222222', 'Munica', 'Jl. Bahagia No.2', 'IF102'),\n",
    "('333333', 'Nina', 'Jl. Damai No.3', 'IF103'),\n",
    "('444444', 'Tia', 'Jl. Jaya No.4', 'IF104'),\n",
    "('555555', 'Rara', 'Jl. Indah No.5', 'IF105') ]\n",
    "\n",
    "cursorObj.executemany(sql, val)\n",
    "dataBase.commit()\n",
    "\n",
    "dataBase.close()\n",
    "print('Data berhasil dimasukkan')"
   ]
  },
  {
   "cell_type": "code",
   "execution_count": 15,
   "id": "ce7b39d3",
   "metadata": {},
   "outputs": [
    {
     "name": "stdout",
     "output_type": "stream",
     "text": [
      "Data berhasil dimasukkan\n"
     ]
    }
   ],
   "source": [
    "#insert data dosen\n",
    "import mysql.connector\n",
    "\n",
    "dataBase = mysql.connector.connect(host = 'localhost', user = \"root\", password = \"\", database=\"D3_TI_2023\")\n",
    "\n",
    "cursorObj=dataBase.cursor()\n",
    "\n",
    "sql=\"INSERT INTO tabel_dosen(NIP, NAMA, MATKUL_YG_DIAJAR) VALUES(%s,%s,%s)\"\n",
    "val = [ ('123456', 'Dr. Arief', 'IF101'),\n",
    "('234567', 'Dr. Budi', 'IF102'),\n",
    "('345678', 'Dr. Candra', 'IF103'),\n",
    "('456789', 'Dr. Dedi', 'IF104'),\n",
    "('567890', 'Dr. Eka', 'IF105') ]\n",
    "\n",
    "cursorObj.executemany(sql, val)\n",
    "dataBase.commit()\n",
    "\n",
    "dataBase.close()\n",
    "print('Data berhasil dimasukkan')"
   ]
  },
  {
   "cell_type": "code",
   "execution_count": 16,
   "id": "1b2ec47f",
   "metadata": {},
   "outputs": [
    {
     "name": "stdout",
     "output_type": "stream",
     "text": [
      "Data berhasil dimasukkan\n"
     ]
    }
   ],
   "source": [
    "#insert data matkul\n",
    "import mysql.connector\n",
    "\n",
    "\n",
    "dataBase = mysql.connector.connect(host = 'localhost', user = \"root\", password = \"\", database=\"D3_TI_2023\")\n",
    "\n",
    "cursorObj=dataBase.cursor()\n",
    "\n",
    "\n",
    "sql=\"INSERT INTO tabel_matkul(kode_MK, nama_MK, WAKTU, RUANG) VALUES(%s,%s,%s,%s)\"\n",
    "val = [ ('IF101', 'Pemrograman Python', '2023-02-01', 'A101'),\n",
    "('IF102', 'Matematika Informatika', '2023-02-02', 'A102'),\n",
    "('IF103', 'Basis Data', '2023-02-03', 'A103'),\n",
    "('IF104', 'Pemrograman Berorientasi Objek', '2023-02-04', 'A104'),\n",
    "('IF105', 'Wireless Communication', '2023-02-05', 'A105') ]\n",
    "\n",
    "\n",
    "cursorObj.executemany(sql, val)\n",
    "dataBase.commit()\n",
    "\n",
    "dataBase.close()\n",
    "print('Data berhasil dimasukkan')"
   ]
  },
  {
   "cell_type": "code",
   "execution_count": 23,
   "id": "6e846bca",
   "metadata": {},
   "outputs": [],
   "source": [
    "import mysql.connector\n",
    "\n",
    "dataBase = mysql.connector.connect(host=\"localhost\", user=\"root\", password=\"\", database=\"D3_TI_2023\")\n",
    "\n",
    "cursorObj = dataBase.cursor()\n",
    "\n",
    "query = \"\"\"SELECT tabel_mahasiswa.NIM, tabel_mahasiswa.NAMA, tabel_matkul.nama_MK, tabel_dosen.NAMA\n",
    "           FROM tabel_mahasiswa\n",
    "           INNER JOIN tabel_matkul ON tabel_mahasiswa.MATKUL_YANG_DIIKUTI = tabel_matkul.kode_MK\n",
    "           INNER JOIN tabel_dosen ON tabel_matkul.nama_MK = tabel_dosen.MATKUL_YG_DIAJAR\n",
    "           WHERE tabel_matkul.kode_MK = %s\"\"\"\n",
    "\n",
    "# Mengganti nilai %s pada query dengan kode mata kuliah yang ingin ditampilkan\n",
    "kode_mk = \"MK001\"\n",
    "cursorObj.execute(query, (kode_mk,))\n",
    "\n",
    "result = cursorObj.fetchall()\n",
    "\n",
    "# Menampilkan hasil query\n",
    "for row in result:\n",
    "    print(f\"NIM: {row[0]}\\nNama: {row[1]}\\nMata Kuliah: {row[2]}\\nDosen: {row[3]}\\n\")\n",
    "\n",
    "# Menutup koneksi database\n",
    "dataBase.close()\n",
    "\n"
   ]
  },
  {
   "cell_type": "code",
   "execution_count": 24,
   "id": "c0fca171",
   "metadata": {},
   "outputs": [],
   "source": []
  },
  {
   "cell_type": "code",
   "execution_count": null,
   "id": "a294c107",
   "metadata": {},
   "outputs": [],
   "source": []
  }
 ],
 "metadata": {
  "kernelspec": {
   "display_name": "Python 3 (ipykernel)",
   "language": "python",
   "name": "python3"
  },
  "language_info": {
   "codemirror_mode": {
    "name": "ipython",
    "version": 3
   },
   "file_extension": ".py",
   "mimetype": "text/x-python",
   "name": "python",
   "nbconvert_exporter": "python",
   "pygments_lexer": "ipython3",
   "version": "3.9.12"
  }
 },
 "nbformat": 4,
 "nbformat_minor": 5
}
